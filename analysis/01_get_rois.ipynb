{
 "cells": [
  {
   "cell_type": "code",
   "execution_count": 1,
   "metadata": {},
   "outputs": [
    {
     "name": "stderr",
     "output_type": "stream",
     "text": [
      "/jukebox/pkgs/PYGER/beta/lib/python3.6/site-packages/h5py/__init__.py:36: FutureWarning: Conversion of the second argument of issubdtype from `float` to `np.floating` is deprecated. In future, it will be treated as `np.float64 == np.dtype(float).type`.\n",
      "  from ._conv import register_converters as _register_converters\n"
     ]
    }
   ],
   "source": [
    "%matplotlib inline  \n",
    "\n",
    "from os.path import isfile, join, exists\n",
    "from os import listdir, makedirs, walk, remove, getlogin\n",
    "import pandas as pd\n",
    "import numpy as np\n",
    "import matplotlib.pyplot as plt\n",
    "import subprocess\n",
    "from nilearn import image, masking\n",
    "import scipy.stats as stats\n",
    "import os\n",
    "import numpy as np\n",
    "import pickle"
   ]
  },
  {
   "cell_type": "code",
   "execution_count": 2,
   "metadata": {},
   "outputs": [],
   "source": [
    "projdir = '/mnt/bucket/labs/hasson/mai/projects/b2b_teaching'\n",
    "    \n",
    "run_list = ['teach1_epi_lesson1', 'teach2_epi_lesson2', 'teach2_epi_lesson3', 'teach3_epi_lesson4', 'teach3_epi_lesson5']\n",
    "\n",
    "roi_list = ['julich_A1_TE1_both_bin20_3mm', 'v1_recent_25ss_3mm', 'sherlockAvg_fc_thr5_lSFG_3mm', \n",
    "            'sherlockAvg_fc_thr5_rSFG_3mm', 'sherlockAvg_fc_thr5_lTPJ_3mm', 'sherlockAvg_fc_thr5_rTPJ_3mm', \n",
    "            'sherlockAvg_fc_thr5_mpfc_3mm', 'sherlockAvg_fc_thr5_pmc_3mm']"
   ]
  },
  {
   "cell_type": "code",
   "execution_count": 3,
   "metadata": {},
   "outputs": [
    {
     "name": "stdout",
     "output_type": "stream",
     "text": [
      "getting rois for teach1_epi_lesson1\n",
      "getting rois for teach2_epi_lesson2\n",
      "getting rois for teach2_epi_lesson3\n",
      "getting rois for teach3_epi_lesson4\n",
      "getting rois for teach3_epi_lesson5\n",
      "\n",
      "done!\n"
     ]
    }
   ],
   "source": [
    "# load data and get rois\n",
    "\n",
    "# initialize an roi dict\n",
    "roidict = {}\n",
    "for roi in roi_list:\n",
    "    roidict[roi] = {}\n",
    "\n",
    "# grab data from all runs\n",
    "for run in run_list:\n",
    "    print('getting rois for ' + run)\n",
    "    \n",
    "    # load data\n",
    "    datafile = join(projdir, 'teach_data', 'data', run + '_data.pk1')\n",
    "    pkl_file = open(datafile, 'rb')\n",
    "    datadict = pickle.load(pkl_file)\n",
    "    pkl_file.close()\n",
    "\n",
    "    # unmask data\n",
    "    mask_nifti = image.load_img(datadict['mask'])\n",
    "    data_unmask = masking.unmask(datadict['data'].T, mask_nifti)\n",
    "    \n",
    "    # mask by roi\n",
    "    for roi in roi_list:\n",
    "        roi_nifti = image.load_img(join(projdir, 'rois', roi + '.nii.gz'))\n",
    "        roidata = masking.apply_mask(data_unmask, roi_nifti)\n",
    "        roidict[roi][run] = roidata.T\n",
    "        \n",
    "print('\\ndone!')\n"
   ]
  },
  {
   "cell_type": "code",
   "execution_count": 4,
   "metadata": {},
   "outputs": [
    {
     "name": "stdout",
     "output_type": "stream",
     "text": [
      "done saving!\n"
     ]
    }
   ],
   "source": [
    "# save rois\n",
    "for roi in roi_list:\n",
    "    this_roidict = roidict[roi]\n",
    "    \n",
    "    savename = join(projdir, 'teach_data', 'data', 'roidata', roi + '_teachData.pk1')\n",
    "    f = open(savename,\"wb\")\n",
    "    pickle.dump(this_roidict,f)\n",
    "    f.close()\n",
    "\n",
    "print('done saving!')\n",
    "\n"
   ]
  },
  {
   "cell_type": "code",
   "execution_count": 1,
   "metadata": {},
   "outputs": [
    {
     "ename": "NameError",
     "evalue": "name 'roi_list' is not defined",
     "output_type": "error",
     "traceback": [
      "\u001b[0;31m---------------------------------------------------------------------------\u001b[0m",
      "\u001b[0;31mNameError\u001b[0m                                 Traceback (most recent call last)",
      "\u001b[0;32m<ipython-input-1-802ade4b4d21>\u001b[0m in \u001b[0;36m<module>\u001b[0;34m()\u001b[0m\n\u001b[1;32m      1\u001b[0m \u001b[0;31m# make some figures\u001b[0m\u001b[0;34m\u001b[0m\u001b[0;34m\u001b[0m\u001b[0m\n\u001b[0;32m----> 2\u001b[0;31m \u001b[0mroi\u001b[0m \u001b[0;34m=\u001b[0m \u001b[0mroi_list\u001b[0m\u001b[0;34m[\u001b[0m\u001b[0;36m0\u001b[0m\u001b[0;34m]\u001b[0m\u001b[0;34m\u001b[0m\u001b[0m\n\u001b[0m\u001b[1;32m      3\u001b[0m \u001b[0mrun\u001b[0m \u001b[0;34m=\u001b[0m \u001b[0mrun_list\u001b[0m\u001b[0;34m[\u001b[0m\u001b[0;36m0\u001b[0m\u001b[0;34m]\u001b[0m\u001b[0;34m\u001b[0m\u001b[0m\n\u001b[1;32m      4\u001b[0m \u001b[0mroidict\u001b[0m\u001b[0;34m[\u001b[0m\u001b[0mroi\u001b[0m\u001b[0;34m]\u001b[0m\u001b[0;34m\u001b[0m\u001b[0m\n\u001b[1;32m      5\u001b[0m \u001b[0;34m\u001b[0m\u001b[0m\n",
      "\u001b[0;31mNameError\u001b[0m: name 'roi_list' is not defined"
     ]
    }
   ],
   "source": [
    "# make some figures\n",
    "roi = roi_list[0]  \n",
    "run = run_list[0]\n",
    "roidict[roi]\n",
    "\n",
    "for roi in roi_list:\n",
    "    fig=plt.figure(figsize=(12, 4), dpi= 80, facecolor='w', edgecolor='k')\n",
    "\n",
    "    for run in run_list:\n",
    "        data = roidict[roi][run]\n",
    "        data_mean = np.mean(data,axis=0)\n",
    "        plt.plot(data_mean[1:100])\n",
    "    #plt.plot(data[50,1:100])\n",
    "\n",
    "    plt.title(roi)\n",
    "    fig.show()"
   ]
  },
  {
   "cell_type": "code",
   "execution_count": null,
   "metadata": {},
   "outputs": [],
   "source": []
  }
 ],
 "metadata": {
  "kernelspec": {
   "display_name": "Python [conda root]",
   "language": "python",
   "name": "conda-root-py"
  },
  "language_info": {
   "codemirror_mode": {
    "name": "ipython",
    "version": 3
   },
   "file_extension": ".py",
   "mimetype": "text/x-python",
   "name": "python",
   "nbconvert_exporter": "python",
   "pygments_lexer": "ipython3",
   "version": "3.6.4"
  }
 },
 "nbformat": 4,
 "nbformat_minor": 2
}

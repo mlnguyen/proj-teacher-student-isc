{
 "cells": [
  {
   "cell_type": "code",
   "execution_count": 2,
   "metadata": {},
   "outputs": [
    {
     "name": "stderr",
     "output_type": "stream",
     "text": [
      "/jukebox/pkgs/PYGER/beta/lib/python3.6/site-packages/h5py/__init__.py:36: FutureWarning: Conversion of the second argument of issubdtype from `float` to `np.floating` is deprecated. In future, it will be treated as `np.float64 == np.dtype(float).type`.\n",
      "  from ._conv import register_converters as _register_converters\n"
     ]
    }
   ],
   "source": [
    "%matplotlib inline  \n",
    "\n",
    "from os.path import isfile, join, exists\n",
    "from os import listdir, makedirs, walk, remove, getlogin\n",
    "import pandas as pd\n",
    "import numpy as np\n",
    "import matplotlib.pyplot as plt\n",
    "import subprocess\n",
    "from nilearn import image, masking\n",
    "import scipy.stats as stats\n",
    "import os\n",
    "import numpy as np\n",
    "import pickle"
   ]
  },
  {
   "cell_type": "code",
   "execution_count": 3,
   "metadata": {},
   "outputs": [],
   "source": [
    "# Set up params\n",
    "projdir = '/mnt/bucket/labs/hasson/mai/projects/b2b_teaching/teach_data'\n",
    "    \n",
    "run_list = ['teach1_epi_lesson1', 'teach2_epi_lesson2', 'teach2_epi_lesson3', 'teach3_epi_lesson4', 'teach3_epi_lesson5']\n",
    "\n",
    "crop = [[6, 1041], [8, 956], [7, 985], [7, 972], [8, 981]]"
   ]
  },
  {
   "cell_type": "code",
   "execution_count": 4,
   "metadata": {},
   "outputs": [],
   "source": [
    "# load brain mask\n",
    "mask = '/mnt/bucket/labs/hasson/mai/standard/MNI_brains/MNI152_T1_3mm_brain_mask_bin.nii'\n",
    "mask_nifti = image.load_img(mask)"
   ]
  },
  {
   "cell_type": "code",
   "execution_count": 5,
   "metadata": {},
   "outputs": [
    {
     "name": "stdout",
     "output_type": "stream",
     "text": [
      "/mnt/bucket/labs/hasson/mai/projects/b2b_teaching/teach_data/data/teach1_epi_lesson1.nii.gz\n"
     ]
    },
    {
     "name": "stderr",
     "output_type": "stream",
     "text": [
      "/jukebox/pkgs/PYGER/beta/lib/python3.6/site-packages/scipy/stats/stats.py:2245: RuntimeWarning: invalid value encountered in true_divide\n",
      "  np.expand_dims(sstd, axis=axis))\n"
     ]
    },
    {
     "name": "stdout",
     "output_type": "stream",
     "text": [
      "/mnt/bucket/labs/hasson/mai/projects/b2b_teaching/teach_data/data/teach2_epi_lesson2.nii.gz\n",
      "/mnt/bucket/labs/hasson/mai/projects/b2b_teaching/teach_data/data/teach2_epi_lesson3.nii.gz\n",
      "/mnt/bucket/labs/hasson/mai/projects/b2b_teaching/teach_data/data/teach3_epi_lesson4.nii.gz\n",
      "/mnt/bucket/labs/hasson/mai/projects/b2b_teaching/teach_data/data/teach3_epi_lesson5.nii.gz\n",
      "done!\n"
     ]
    }
   ],
   "source": [
    "# Prep data for analysis\n",
    "\n",
    "for i,run in enumerate(run_list):\n",
    "    \n",
    "    # load data\n",
    "    nifti_file = join(projdir, 'data', run + '.nii.gz')\n",
    "    print(nifti_file)\n",
    "    nifti = image.load_img(nifti_file)\n",
    "    \n",
    "    # mask data\n",
    "    masked_data = masking.apply_mask(nifti, mask_nifti).T #nVox x nTRs\n",
    "\n",
    "    # crop\n",
    "    data_crop = masked_data[:,crop[i][0]:crop[i][1]]\n",
    "\n",
    "    # zscore\n",
    "    data_crop_z = stats.zscore(data_crop, axis=1, ddof=1)\n",
    "    \n",
    "    # store data in dict\n",
    "    dataDict = {'data': data_crop_z, 'run': run, 'mask': mask}\n",
    "\n",
    "    # save data dict\n",
    "    savename = join(projdir, 'data', run + '_data.pk1')\n",
    "    f = open(savename,\"wb\")\n",
    "    pickle.dump(dataDict,f)\n",
    "    f.close()\n",
    "\n",
    "print('done!')"
   ]
  },
  {
   "cell_type": "code",
   "execution_count": null,
   "metadata": {},
   "outputs": [],
   "source": []
  },
  {
   "cell_type": "code",
   "execution_count": null,
   "metadata": {},
   "outputs": [],
   "source": []
  },
  {
   "cell_type": "code",
   "execution_count": null,
   "metadata": {},
   "outputs": [],
   "source": []
  },
  {
   "cell_type": "code",
   "execution_count": null,
   "metadata": {},
   "outputs": [],
   "source": []
  },
  {
   "cell_type": "code",
   "execution_count": null,
   "metadata": {},
   "outputs": [],
   "source": []
  },
  {
   "cell_type": "code",
   "execution_count": null,
   "metadata": {},
   "outputs": [],
   "source": []
  },
  {
   "cell_type": "code",
   "execution_count": null,
   "metadata": {},
   "outputs": [],
   "source": [
    "\n"
   ]
  },
  {
   "cell_type": "code",
   "execution_count": null,
   "metadata": {},
   "outputs": [],
   "source": []
  }
 ],
 "metadata": {
  "kernelspec": {
   "display_name": "Python [conda root]",
   "language": "python",
   "name": "conda-root-py"
  },
  "language_info": {
   "codemirror_mode": {
    "name": "ipython",
    "version": 3
   },
   "file_extension": ".py",
   "mimetype": "text/x-python",
   "name": "python",
   "nbconvert_exporter": "python",
   "pygments_lexer": "ipython3",
   "version": "3.6.4"
  }
 },
 "nbformat": 4,
 "nbformat_minor": 2
}

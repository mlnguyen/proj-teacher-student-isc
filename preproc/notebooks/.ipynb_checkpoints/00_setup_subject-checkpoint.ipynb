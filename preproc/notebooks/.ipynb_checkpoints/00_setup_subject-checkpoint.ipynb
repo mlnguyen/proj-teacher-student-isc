{
 "cells": [
  {
   "cell_type": "code",
   "execution_count": 1,
   "metadata": {
    "collapsed": false
   },
   "outputs": [
    {
     "name": "stderr",
     "output_type": "stream",
     "text": [
      "/jukebox/pkgs/ANACONDAPY/ni/lib/python3.6/site-packages/sklearn/cross_validation.py:44: DeprecationWarning: This module was deprecated in version 0.18 in favor of the model_selection module into which all the refactored classes and functions are moved. Also note that the interface of the new CV iterators are different from that of this module. This module will be removed in 0.20.\n",
      "  \"This module will be removed in 0.20.\", DeprecationWarning)\n"
     ]
    }
   ],
   "source": [
    "from IPython.display import display\n",
    "from os.path import isfile, join, exists\n",
    "from os import listdir, makedirs, walk, remove, getlogin\n",
    "from nilearn import image, plotting\n",
    "import pandas as pd\n",
    "import numpy as np\n",
    "import matplotlib.pyplot as plt\n",
    "import re\n",
    "import fileinput"
   ]
  },
  {
   "cell_type": "code",
   "execution_count": 2,
   "metadata": {
    "collapsed": true
   },
   "outputs": [],
   "source": [
    "#---- Set subject specific variables ----#\n",
    "\n",
    "# Set subject ID\n",
    "subid = 'impr_g1_s3_020518'\n",
    "\n",
    "# manually set scan num, type, and conds\n",
    "epis = [9, 10, 11, 12]\n",
    "anat = [8]\n",
    "fieldmaps = [13, 14]\n",
    "epi_cond_order = ['neg1', 'pos1', 'mixed1']\n",
    "\n",
    "scanNum = epis + anat + fieldmaps \n",
    "scanType = ['epi', 'epi', 'epi', 'epi', 'anat', 'fieldmap', 'fieldmap']\n",
    "scanCond = epi_cond_order + ['pieman', 'anat', 'se_fieldmap_ap', 'se_fieldmap_pa' ]\n",
    "\n",
    "ref_scan = 'pieman'\n",
    "conds_order_std = ['pos1', 'neg1', 'mixed1']"
   ]
  },
  {
   "cell_type": "code",
   "execution_count": 3,
   "metadata": {
    "collapsed": true
   },
   "outputs": [],
   "source": [
    "#---- Set experiment-specific parameters ----#\n",
    "\n",
    "# Set data dir\n",
    "projdir = '/mnt/bucket/labs/hasson/mai/projects/impressions/data'\n",
    "\n",
    "# Set code dir\n",
    "codedir = '/mnt/bucket/labs/hasson/mai/projects/impressions/code/preproc/bash'\n",
    "\n",
    "# Set template dir\n",
    "templatedir = '/mnt/bucket/labs/hasson/mai/projects/impressions/code/preproc/template'"
   ]
  },
  {
   "cell_type": "code",
   "execution_count": 4,
   "metadata": {
    "collapsed": false
   },
   "outputs": [],
   "source": [
    "#---- Setup subject directories -----#\n",
    "\n",
    "subdir = join(projdir, subid)\n",
    "if not exists(subdir):\n",
    "    print(subdir + ' does not exist, creating')\n",
    "    makedirs(subdir)\n",
    "    \n",
    "subdir_data = join(subdir, 'raw')\n",
    "if not exists(subdir_data):\n",
    "    print(subdir_data + ' does not exist, creating')\n",
    "    makedirs(subdir_data)\n",
    "\n",
    "subdir_log = join(subdir, 'logs')\n",
    "if not exists(subdir_log):\n",
    "    print(subdir_log + ' does not exist, creating')\n",
    "    makedirs(subdir_log)\n",
    "    \n",
    "preproc_script_dir = join(subdir, 'preproc', 'scripts')\n",
    "if not exists(preproc_script_dir):\n",
    "    print(preproc_script_dir + ' does not exist, creating')\n",
    "    makedirs(preproc_script_dir)\n"
   ]
  },
  {
   "cell_type": "code",
   "execution_count": null,
   "metadata": {
    "collapsed": false
   },
   "outputs": [],
   "source": [
    "#---- Copy and modify preproc scripts for subject ----#\n",
    "\n",
    "# Setup script1: 01_convert_dcm2nii.py\n",
    "template_script = join(templatedir, '01_convert_dcm2nii.py')\n",
    "subj_script = join(preproc_script_dir, '01_convert_dcm2nii.py')\n",
    "!cp {template_script} {subj_script}\n",
    "\n",
    "for line in fileinput.input(subj_script, inplace=1):\n",
    "    line = re.sub('###SUB_ID###', \"'\" + subid + \"'\", line.rstrip())\n",
    "    line = re.sub('###EPI_NS###', str(epis), line.rstrip())\n",
    "    line = re.sub('###ANAT_N###', str(anat), line.rstrip())\n",
    "    line = re.sub('###FIELDMAP_NS###', str(fieldmaps), line.rstrip())\n",
    "    line = re.sub('###EPI_CONDS###', str(epi_cond_order), line.rstrip())\n",
    "    line = re.sub('###SCAN_TYPE###', str(scanType), line.rstrip())\n",
    "    line = re.sub('###SCAN_COND###', str(scanCond), line.rstrip())\n",
    "    print(line)\n",
    "fileinput.close()\n",
    "\n",
    "# Setup script: 02_make_preprocFiles.py\n",
    "template_script = join(templatedir, '02_make_preprocFiles.py')\n",
    "subj_script = join(preproc_script_dir, '02_make_preprocFiles.py')\n",
    "!cp {template_script} {subj_script}\n",
    "\n",
    "for line in fileinput.input(subj_script, inplace=1):\n",
    "    line = re.sub('###SUB_ID###', \"'\" + subid + \"'\", line.rstrip())\n",
    "    line = re.sub('###REF_SCAN###', \"'\" + ref_scan + \"'\", line.rstrip())\n",
    "    print(line)\n",
    "fileinput.close()\n",
    "\n",
    "# Setup script: 03_run_preproc.py\n",
    "template_script = join(templatedir, '03_run_preproc.py')\n",
    "subj_script = join(preproc_script_dir, '03_run_preproc.py')\n",
    "!cp {template_script} {subj_script}\n",
    "\n",
    "for line in fileinput.input(subj_script, inplace=1):\n",
    "    line = re.sub('###SUB_ID###', \"'\" + subid + \"'\", line.rstrip())\n",
    "    line = re.sub('###CONDS###', str(conds_order_std), line.rstrip())\n",
    "    print(line)\n",
    "fileinput.close()\n"
   ]
  },
  {
   "cell_type": "code",
   "execution_count": 7,
   "metadata": {
    "collapsed": false
   },
   "outputs": [],
   "source": [
    "fileinput.close()"
   ]
  },
  {
   "cell_type": "code",
   "execution_count": null,
   "metadata": {
    "collapsed": true
   },
   "outputs": [],
   "source": []
  }
 ],
 "metadata": {
  "kernelspec": {
   "display_name": "Python 3",
   "language": "python",
   "name": "python3"
  },
  "language_info": {
   "codemirror_mode": {
    "name": "ipython",
    "version": 3
   },
   "file_extension": ".py",
   "mimetype": "text/x-python",
   "name": "python",
   "nbconvert_exporter": "python",
   "pygments_lexer": "ipython3",
   "version": "3.6.0"
  }
 },
 "nbformat": 4,
 "nbformat_minor": 2
}

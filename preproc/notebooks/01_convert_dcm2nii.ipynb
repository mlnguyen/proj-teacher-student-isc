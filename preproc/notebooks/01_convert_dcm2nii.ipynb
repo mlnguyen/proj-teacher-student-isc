{
 "cells": [
  {
   "cell_type": "code",
   "execution_count": 1,
   "metadata": {
    "collapsed": false
   },
   "outputs": [
    {
     "name": "stderr",
     "output_type": "stream",
     "text": [
      "/jukebox/pkgs/ANACONDAPY/ni/lib/python3.6/site-packages/sklearn/cross_validation.py:44: DeprecationWarning: This module was deprecated in version 0.18 in favor of the model_selection module into which all the refactored classes and functions are moved. Also note that the interface of the new CV iterators are different from that of this module. This module will be removed in 0.20.\n",
      "  \"This module will be removed in 0.20.\", DeprecationWarning)\n"
     ]
    }
   ],
   "source": [
    "%matplotlib inline \n",
    "from IPython.display import display\n",
    "from os.path import isfile, join, exists\n",
    "from os import listdir, makedirs, walk, remove, getlogin\n",
    "from nilearn import image, plotting\n",
    "import pandas as pd\n",
    "import numpy as np\n",
    "import matplotlib.pyplot as plt\n"
   ]
  },
  {
   "cell_type": "code",
   "execution_count": 2,
   "metadata": {
    "collapsed": true
   },
   "outputs": [],
   "source": [
    "# Set subject-specific parameters\n",
    "\n",
    "# Set subject ID\n",
    "subid = 'impr_g1_s3_020518'\n",
    "\n",
    "# manually set scan num, type, and conds\n",
    "epis = [9, 10, 11, 12]\n",
    "anat = [8]\n",
    "fieldmaps = [13, 14]\n",
    "\n",
    "epi_cond = ['neg1', 'pos1', 'mixed1']"
   ]
  },
  {
   "cell_type": "code",
   "execution_count": 3,
   "metadata": {
    "collapsed": false
   },
   "outputs": [],
   "source": [
    "### Set experiment-specific parameters #####\n",
    "\n",
    "# Set data dir\n",
    "projdir = '/mnt/bucket/labs/hasson/mai/projects/impressions/data'\n",
    "\n",
    "#Set code dir\n",
    "codedir = '/mnt/bucket/labs/hasson/mai/code/preproc/bash'\n",
    "\n",
    "# Set rawdata path\n",
    "rawdir = join(projdir, subid, 'raw', 'dcm')\n",
    "\n",
    "# Set savefile\n",
    "savefile = join(projdir, subid, 'scanInfo.csv')\n",
    "\n",
    "# Set output dir\n",
    "outputdir = join(projdir, subid, 'raw', 'niftis_good')\n",
    "if not exists(outputdir):\n",
    "    print(outputdir + ' does not exist, creating')\n",
    "    makedirs(outputdir)"
   ]
  },
  {
   "cell_type": "code",
   "execution_count": 4,
   "metadata": {
    "collapsed": false
   },
   "outputs": [
    {
     "name": "stdout",
     "output_type": "stream",
     "text": [
      "copying dicoms\n",
      "unzipping dicoms\n",
      "converting dicms to nifti\n",
      "Chris Rorden's dcm2niiX version 12Feb2016 (64-bit)\n",
      "Version 12Feb2016 (64-bit)\n",
      "Found 2425 DICOM image(s)\n",
      "Note: intensity range requires saving as rare 16-bit UNSIGNED integer. Subsequent tools may require 32-bit conversion\n",
      "Convert 592 DICOM as /mnt/bucket/labs/hasson/mai/projects/impressions/data/impr_g1_s3_020518/raw/niftis_good/10_EPI-2mm-CMRR-PPF78-1500TR-MB4a (96x96x60x592)\n",
      "compress: \"/usr/bin/pigz\" -n -f \"/mnt/bucket/labs/hasson/mai/projects/impressions/data/impr_g1_s3_020518/raw/niftis_good/10_EPI-2mm-CMRR-PPF78-1500TR-MB4a.nii\"\n",
      "Note: intensity range requires saving as rare 16-bit UNSIGNED integer. Subsequent tools may require 32-bit conversion\n",
      "Convert 590 DICOM as /mnt/bucket/labs/hasson/mai/projects/impressions/data/impr_g1_s3_020518/raw/niftis_good/11_EPI-2mm-CMRR-PPF78-1500TR-MB4a (96x96x60x590)\n",
      "compress: \"/usr/bin/pigz\" -n -f \"/mnt/bucket/labs/hasson/mai/projects/impressions/data/impr_g1_s3_020518/raw/niftis_good/11_EPI-2mm-CMRR-PPF78-1500TR-MB4a.nii\"\n",
      "Note: intensity range requires saving as rare 16-bit UNSIGNED integer. Subsequent tools may require 32-bit conversion\n",
      "Convert 592 DICOM as /mnt/bucket/labs/hasson/mai/projects/impressions/data/impr_g1_s3_020518/raw/niftis_good/09_EPI-2mm-CMRR-PPF78-1500TR-MB4a (96x96x60x592)\n",
      "compress: \"/usr/bin/pigz\" -n -f \"/mnt/bucket/labs/hasson/mai/projects/impressions/data/impr_g1_s3_020518/raw/niftis_good/09_EPI-2mm-CMRR-PPF78-1500TR-MB4a.nii\"\n",
      "Convert 128 DICOM as /mnt/bucket/labs/hasson/mai/projects/impressions/data/impr_g1_s3_020518/raw/niftis_good/02_AAHead_Scout_64ch-head-coila (160x160x128x1)\n",
      "compress: \"/usr/bin/pigz\" -n -f \"/mnt/bucket/labs/hasson/mai/projects/impressions/data/impr_g1_s3_020518/raw/niftis_good/02_AAHead_Scout_64ch-head-coila.nii\"\n",
      "Convert 176 DICOM as /mnt/bucket/labs/hasson/mai/projects/impressions/data/impr_g1_s3_020518/raw/niftis_good/08_T1w_MPR_1iso_iP2a (256x256x176x1)\n",
      "compress: \"/usr/bin/pigz\" -n -f \"/mnt/bucket/labs/hasson/mai/projects/impressions/data/impr_g1_s3_020518/raw/niftis_good/08_T1w_MPR_1iso_iP2a.nii\"\n",
      "Note: intensity range requires saving as rare 16-bit UNSIGNED integer. Subsequent tools may require 32-bit conversion\n",
      "Convert 301 DICOM as /mnt/bucket/labs/hasson/mai/projects/impressions/data/impr_g1_s3_020518/raw/niftis_good/12_EPI-2mm-CMRR-PPF78-1500TR-MB4a (96x96x60x301)\n",
      "compress: \"/usr/bin/pigz\" -n -f \"/mnt/bucket/labs/hasson/mai/projects/impressions/data/impr_g1_s3_020518/raw/niftis_good/12_EPI-2mm-CMRR-PPF78-1500TR-MB4a.nii\"\n",
      "Note: intensity range requires saving as rare 16-bit UNSIGNED integer. Subsequent tools may require 32-bit conversion\n",
      "Convert 17 DICOM as /mnt/bucket/labs/hasson/mai/projects/impressions/data/impr_g1_s3_020518/raw/niftis_good/07_EPI-2mm-CMRR-PPF78-1500TR-MB4a (96x96x60x17)\n",
      "compress: \"/usr/bin/pigz\" -n -f \"/mnt/bucket/labs/hasson/mai/projects/impressions/data/impr_g1_s3_020518/raw/niftis_good/07_EPI-2mm-CMRR-PPF78-1500TR-MB4a.nii\"\n",
      "Convert 1 DICOM as /mnt/bucket/labs/hasson/mai/projects/impressions/data/impr_g1_s3_020518/raw/niftis_good/03_AAHead_Scout_64ch-head-coilc (162x162x1x1)\n",
      "WARNING: check that 2D images are not mirrored.\n",
      "compress: \"/usr/bin/pigz\" -n -f \"/mnt/bucket/labs/hasson/mai/projects/impressions/data/impr_g1_s3_020518/raw/niftis_good/03_AAHead_Scout_64ch-head-coilc.nii\"\n",
      "Convert 2 DICOM as /mnt/bucket/labs/hasson/mai/projects/impressions/data/impr_g1_s3_020518/raw/niftis_good/03_AAHead_Scout_64ch-head-coild (162x162x2x1)\n",
      "compress: \"/usr/bin/pigz\" -n -f \"/mnt/bucket/labs/hasson/mai/projects/impressions/data/impr_g1_s3_020518/raw/niftis_good/03_AAHead_Scout_64ch-head-coild.nii\"\n",
      "Convert 1 DICOM as /mnt/bucket/labs/hasson/mai/projects/impressions/data/impr_g1_s3_020518/raw/niftis_good/04_AAHead_Scout_64ch-head-coilb (162x162x1x1)\n",
      "WARNING: check that 2D images are not mirrored.\n",
      "compress: \"/usr/bin/pigz\" -n -f \"/mnt/bucket/labs/hasson/mai/projects/impressions/data/impr_g1_s3_020518/raw/niftis_good/04_AAHead_Scout_64ch-head-coilb.nii\"\n",
      "Note: intensity range requires saving as rare 16-bit UNSIGNED integer. Subsequent tools may require 32-bit conversion\n",
      "Convert 3 DICOM as /mnt/bucket/labs/hasson/mai/projects/impressions/data/impr_g1_s3_020518/raw/niftis_good/13_SpinEchoFieldMap_APa (96x96x60x3)\n",
      "compress: \"/usr/bin/pigz\" -n -f \"/mnt/bucket/labs/hasson/mai/projects/impressions/data/impr_g1_s3_020518/raw/niftis_good/13_SpinEchoFieldMap_APa.nii\"\n",
      "Convert 1 DICOM as /mnt/bucket/labs/hasson/mai/projects/impressions/data/impr_g1_s3_020518/raw/niftis_good/05_AAHead_Scout_64ch-head-coilb (162x162x1x1)\n",
      "WARNING: check that 2D images are not mirrored.\n",
      "compress: \"/usr/bin/pigz\" -n -f \"/mnt/bucket/labs/hasson/mai/projects/impressions/data/impr_g1_s3_020518/raw/niftis_good/05_AAHead_Scout_64ch-head-coilb.nii\"\n",
      "Convert 1 DICOM as /mnt/bucket/labs/hasson/mai/projects/impressions/data/impr_g1_s3_020518/raw/niftis_good/04_AAHead_Scout_64ch-head-coilc (162x162x1x1)\n",
      "WARNING: check that 2D images are not mirrored.\n",
      "compress: \"/usr/bin/pigz\" -n -f \"/mnt/bucket/labs/hasson/mai/projects/impressions/data/impr_g1_s3_020518/raw/niftis_good/04_AAHead_Scout_64ch-head-coilc.nii\"\n",
      "Convert 1 DICOM as /mnt/bucket/labs/hasson/mai/projects/impressions/data/impr_g1_s3_020518/raw/niftis_good/0000000000000000000000000006_Localizera (256x256x1x1)\n",
      "WARNING: check that 2D images are not mirrored.\n",
      "compress: \"/usr/bin/pigz\" -n -f \"/mnt/bucket/labs/hasson/mai/projects/impressions/data/impr_g1_s3_020518/raw/niftis_good/0000000000000000000000000006_Localizera.nii\"\n",
      "Convert 1 DICOM as /mnt/bucket/labs/hasson/mai/projects/impressions/data/impr_g1_s3_020518/raw/niftis_good/01_localizera (512x512x1x1)\n",
      "WARNING: check that 2D images are not mirrored.\n",
      "compress: \"/usr/bin/pigz\" -n -f \"/mnt/bucket/labs/hasson/mai/projects/impressions/data/impr_g1_s3_020518/raw/niftis_good/01_localizera.nii\"\n",
      "Convert 1 DICOM as /mnt/bucket/labs/hasson/mai/projects/impressions/data/impr_g1_s3_020518/raw/niftis_good/06_Localizera (256x256x1x1)\n",
      "WARNING: check that 2D images are not mirrored.\n",
      "compress: \"/usr/bin/pigz\" -n -f \"/mnt/bucket/labs/hasson/mai/projects/impressions/data/impr_g1_s3_020518/raw/niftis_good/06_Localizera.nii\"\n",
      "Convert 1 DICOM as /mnt/bucket/labs/hasson/mai/projects/impressions/data/impr_g1_s3_020518/raw/niftis_good/05_AAHead_Scout_64ch-head-coilc (162x162x1x1)\n",
      "WARNING: check that 2D images are not mirrored.\n",
      "compress: \"/usr/bin/pigz\" -n -f \"/mnt/bucket/labs/hasson/mai/projects/impressions/data/impr_g1_s3_020518/raw/niftis_good/05_AAHead_Scout_64ch-head-coilc.nii\"\n",
      "Convert 1 DICOM as /mnt/bucket/labs/hasson/mai/projects/impressions/data/impr_g1_s3_020518/raw/niftis_good/03_AAHead_Scout_64ch-head-coile (162x162x1x1)\n",
      "WARNING: check that 2D images are not mirrored.\n",
      "compress: \"/usr/bin/pigz\" -n -f \"/mnt/bucket/labs/hasson/mai/projects/impressions/data/impr_g1_s3_020518/raw/niftis_good/03_AAHead_Scout_64ch-head-coile.nii\"\n",
      "/mnt/bucket/labs/hasson/mai/code/preproc/bash/prep_and_dcm2nii.sh: line 18: 115489 Segmentation fault      dcm2niix -z y -f %2s_%p $OUTDIR\n",
      "deleting old dcms\n"
     ]
    }
   ],
   "source": [
    "### Convert dicoms to niftis ####\n",
    "# This script copies dicoms from the raw directory to the nifti preproc dir.\n",
    "# Then it unzips everything and converts dicoms to niftis. Finally, it deletes\n",
    "# the original dicoms.\n",
    "!{join(codedir, 'prep_and_dcm2nii.sh')} {rawdir} {outputdir}"
   ]
  },
  {
   "cell_type": "code",
   "execution_count": 4,
   "metadata": {
    "collapsed": false
   },
   "outputs": [
    {
     "data": {
      "text/html": [
       "<div>\n",
       "<table border=\"1\" class=\"dataframe\">\n",
       "  <thead>\n",
       "    <tr style=\"text-align: right;\">\n",
       "      <th></th>\n",
       "      <th>scanName</th>\n",
       "      <th>scanNum</th>\n",
       "      <th>scanType</th>\n",
       "    </tr>\n",
       "  </thead>\n",
       "  <tbody>\n",
       "    <tr>\n",
       "      <th>neg1</th>\n",
       "      <td>09_EPI-2mm-CMRR-PPF78-1500TR-MB4.nii.gz</td>\n",
       "      <td>9</td>\n",
       "      <td>epi</td>\n",
       "    </tr>\n",
       "    <tr>\n",
       "      <th>pos1</th>\n",
       "      <td>10_EPI-2mm-CMRR-PPF78-1500TR-MB4.nii.gz</td>\n",
       "      <td>10</td>\n",
       "      <td>epi</td>\n",
       "    </tr>\n",
       "    <tr>\n",
       "      <th>mixed1</th>\n",
       "      <td>11_EPI-2mm-CMRR-PPF78-1500TR-MB4.nii.gz</td>\n",
       "      <td>11</td>\n",
       "      <td>epi</td>\n",
       "    </tr>\n",
       "    <tr>\n",
       "      <th>pieman</th>\n",
       "      <td>12_EPI-2mm-CMRR-PPF78-1500TR-MB4.nii.gz</td>\n",
       "      <td>12</td>\n",
       "      <td>epi</td>\n",
       "    </tr>\n",
       "    <tr>\n",
       "      <th>anat</th>\n",
       "      <td>08_T1w_MPR_1iso_iP2.nii.gz</td>\n",
       "      <td>8</td>\n",
       "      <td>anat</td>\n",
       "    </tr>\n",
       "    <tr>\n",
       "      <th>se_fieldmap_ap</th>\n",
       "      <td>13_SpinEchoFieldMap_AP.nii.gz</td>\n",
       "      <td>13</td>\n",
       "      <td>fieldmap</td>\n",
       "    </tr>\n",
       "    <tr>\n",
       "      <th>se_fieldmap_pa</th>\n",
       "      <td>14_SpinEchoFieldMap_PA.nii.gz</td>\n",
       "      <td>14</td>\n",
       "      <td>fieldmap</td>\n",
       "    </tr>\n",
       "  </tbody>\n",
       "</table>\n",
       "</div>"
      ],
      "text/plain": [
       "                                               scanName  scanNum  scanType\n",
       "neg1            09_EPI-2mm-CMRR-PPF78-1500TR-MB4.nii.gz        9       epi\n",
       "pos1            10_EPI-2mm-CMRR-PPF78-1500TR-MB4.nii.gz       10       epi\n",
       "mixed1          11_EPI-2mm-CMRR-PPF78-1500TR-MB4.nii.gz       11       epi\n",
       "pieman          12_EPI-2mm-CMRR-PPF78-1500TR-MB4.nii.gz       12       epi\n",
       "anat                         08_T1w_MPR_1iso_iP2.nii.gz        8      anat\n",
       "se_fieldmap_ap            13_SpinEchoFieldMap_AP.nii.gz       13  fieldmap\n",
       "se_fieldmap_pa            14_SpinEchoFieldMap_PA.nii.gz       14  fieldmap"
      ]
     },
     "execution_count": 4,
     "metadata": {},
     "output_type": "execute_result"
    }
   ],
   "source": [
    "# Create subject information file\n",
    "\n",
    "scanNum = epis + anat + fieldmaps \n",
    "scanType = ['epi', 'epi', 'epi', 'epi', 'anat', 'fieldmap', 'fieldmap']\n",
    "scanCond = epi_cond + ['pieman', 'anat', 'se_fieldmap_ap', 'se_fieldmap_pa' ]\n",
    "\n",
    "# automatically get scan names\n",
    "scanNames = np.array([])\n",
    "niftis_all = listdir(outputdir)\n",
    "for i in scanNum:\n",
    "    for filename in niftis_all:\n",
    "        if str(i) + '_' in filename:\n",
    "            scanNames = np.append(scanNames, filename)\n",
    "            break       \n",
    "            \n",
    "# make dataframe\n",
    "df = pd.DataFrame({'scanNum': scanNum,'scanType': scanType, 'scanName':scanNames}, index=scanCond)\n",
    "df\n"
   ]
  },
  {
   "cell_type": "code",
   "execution_count": 24,
   "metadata": {
    "collapsed": false
   },
   "outputs": [
    {
     "name": "stdout",
     "output_type": "stream",
     "text": [
      "**** done!\n"
     ]
    }
   ],
   "source": [
    "# if everything looks fine, save dataframe to subjects dir\n",
    "df.to_csv(savefile)\n",
    "\n",
    "print('**** done!')"
   ]
  },
  {
   "cell_type": "code",
   "execution_count": null,
   "metadata": {
    "collapsed": true
   },
   "outputs": [],
   "source": []
  }
 ],
 "metadata": {
  "kernelspec": {
   "display_name": "Python 3",
   "language": "python",
   "name": "python3"
  },
  "language_info": {
   "codemirror_mode": {
    "name": "ipython",
    "version": 3
   },
   "file_extension": ".py",
   "mimetype": "text/x-python",
   "name": "python",
   "nbconvert_exporter": "python",
   "pygments_lexer": "ipython3",
   "version": "3.6.0"
  }
 },
 "nbformat": 4,
 "nbformat_minor": 2
}

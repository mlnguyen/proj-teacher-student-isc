{
 "cells": [
  {
   "cell_type": "markdown",
   "metadata": {},
   "source": [
    "#### Step 2  <br>\n",
    "Prepare various files for doing preprocessing:\n",
    "1. Prep unwarp files: \n",
    "    * create fieldmaps for B0 correction\n",
    "    * extract ref vol for motion correction\n",
    "2. Brain extraction\n",
    "    * extract brain anatomy for motion correction"
   ]
  },
  {
   "cell_type": "code",
   "execution_count": 1,
   "metadata": {
    "collapsed": false
   },
   "outputs": [
    {
     "name": "stderr",
     "output_type": "stream",
     "text": [
      "/jukebox/pkgs/ANACONDAPY/ni/lib/python3.6/site-packages/sklearn/cross_validation.py:44: DeprecationWarning: This module was deprecated in version 0.18 in favor of the model_selection module into which all the refactored classes and functions are moved. Also note that the interface of the new CV iterators are different from that of this module. This module will be removed in 0.20.\n",
      "  \"This module will be removed in 0.20.\", DeprecationWarning)\n"
     ]
    }
   ],
   "source": [
    "# python imports\n",
    "%matplotlib inline \n",
    "from os import listdir, makedirs, walk, remove, getlogin\n",
    "from os.path import isfile, join, exists\n",
    "import subprocess\n",
    "import numpy as np\n",
    "import matplotlib.pyplot as plt\n",
    "import shutil\n",
    "import pandas as pd\n",
    "import socket\n",
    "from nilearn import image, plotting\n"
   ]
  },
  {
   "cell_type": "code",
   "execution_count": 4,
   "metadata": {
    "collapsed": true
   },
   "outputs": [],
   "source": [
    "# set subject specific info\n",
    "subj = 'impr_g1_s3_020518'\n",
    "last_scan = 'pieman'"
   ]
  },
  {
   "cell_type": "code",
   "execution_count": 8,
   "metadata": {
    "collapsed": false
   },
   "outputs": [
    {
     "data": {
      "text/html": [
       "<div>\n",
       "<table border=\"1\" class=\"dataframe\">\n",
       "  <thead>\n",
       "    <tr style=\"text-align: right;\">\n",
       "      <th></th>\n",
       "      <th>scanName</th>\n",
       "      <th>scanNum</th>\n",
       "      <th>scanType</th>\n",
       "    </tr>\n",
       "  </thead>\n",
       "  <tbody>\n",
       "    <tr>\n",
       "      <th>neg1</th>\n",
       "      <td>09_EPI-2mm-CMRR-PPF78-1500TR-MB4b.nii.gz</td>\n",
       "      <td>9</td>\n",
       "      <td>epi</td>\n",
       "    </tr>\n",
       "    <tr>\n",
       "      <th>pos1</th>\n",
       "      <td>10_EPI-2mm-CMRR-PPF78-1500TR-MB4b.nii.gz</td>\n",
       "      <td>10</td>\n",
       "      <td>epi</td>\n",
       "    </tr>\n",
       "    <tr>\n",
       "      <th>mixed1</th>\n",
       "      <td>11_EPI-2mm-CMRR-PPF78-1500TR-MB4b.nii.gz</td>\n",
       "      <td>11</td>\n",
       "      <td>epi</td>\n",
       "    </tr>\n",
       "    <tr>\n",
       "      <th>pieman</th>\n",
       "      <td>12_EPI-2mm-CMRR-PPF78-1500TR-MB4b.nii.gz</td>\n",
       "      <td>12</td>\n",
       "      <td>epi</td>\n",
       "    </tr>\n",
       "    <tr>\n",
       "      <th>anat</th>\n",
       "      <td>08_T1w_MPR_1iso_iP2b.nii.gz</td>\n",
       "      <td>8</td>\n",
       "      <td>anat</td>\n",
       "    </tr>\n",
       "    <tr>\n",
       "      <th>se_fieldmap_ap</th>\n",
       "      <td>13_SpinEchoFieldMap_APb.nii.gz</td>\n",
       "      <td>13</td>\n",
       "      <td>fieldmap</td>\n",
       "    </tr>\n",
       "    <tr>\n",
       "      <th>se_fieldmap_pa</th>\n",
       "      <td>14_SpinEchoFieldMap_PA.nii.gz</td>\n",
       "      <td>14</td>\n",
       "      <td>fieldmap</td>\n",
       "    </tr>\n",
       "  </tbody>\n",
       "</table>\n",
       "</div>"
      ],
      "text/plain": [
       "                                                scanName  scanNum  scanType\n",
       "neg1            09_EPI-2mm-CMRR-PPF78-1500TR-MB4b.nii.gz        9       epi\n",
       "pos1            10_EPI-2mm-CMRR-PPF78-1500TR-MB4b.nii.gz       10       epi\n",
       "mixed1          11_EPI-2mm-CMRR-PPF78-1500TR-MB4b.nii.gz       11       epi\n",
       "pieman          12_EPI-2mm-CMRR-PPF78-1500TR-MB4b.nii.gz       12       epi\n",
       "anat                         08_T1w_MPR_1iso_iP2b.nii.gz        8      anat\n",
       "se_fieldmap_ap            13_SpinEchoFieldMap_APb.nii.gz       13  fieldmap\n",
       "se_fieldmap_pa             14_SpinEchoFieldMap_PA.nii.gz       14  fieldmap"
      ]
     },
     "execution_count": 8,
     "metadata": {},
     "output_type": "execute_result"
    }
   ],
   "source": [
    "# set various paths\n",
    "\n",
    "# Set projdirs dir\n",
    "projdir = '/mnt/bucket/labs/hasson/mai/projects/impressions'\n",
    "datadir = join(projdir, 'data')\n",
    "acqdir = join(projdir, 'acq_params')\n",
    "\n",
    "# Set code dir\n",
    "codedir = join(projdir, 'code', 'preproc', 'bash')\n",
    "\n",
    "# Rawdir\n",
    "rawdir = join(datadir, subj, 'raw', 'niftis_good')\n",
    "\n",
    "# Set acqparams file\n",
    "acqparams_file = join(acqdir, 'acqparams.txt')\n",
    "\n",
    "# Set config file\n",
    "config_file = join(acqdir, 'b02b0.cnf')\n",
    "\n",
    "# Load scan info\n",
    "scanInfo = pd.read_csv(join(datadir, subj, 'scanInfo.csv'), index_col=0)\n",
    "scanInfo"
   ]
  },
  {
   "cell_type": "code",
   "execution_count": 56,
   "metadata": {
    "collapsed": false
   },
   "outputs": [
    {
     "name": "stdout",
     "output_type": "stream",
     "text": [
      "/mnt/bucket/labs/hasson/mai/projects/impressions/data/impr_g1_s3_020518/preproc/unwarp_out/unwarp_files/bet_figures; does not exist, creating\n"
     ]
    }
   ],
   "source": [
    "#### Create fieldmap files using fsl's topup command. ####\n",
    "# 1. Merges SE fieldmaps into single file\n",
    "# 2. Run's FSL topup fx to correct the fieldmaps\n",
    "# 3. Convert corrected fieldmaps to magnitude map by taking average\n",
    "# 4. Convert corrected phase map in Hz to phase map in rads    \n",
    "\n",
    "# create output dir\n",
    "outdir = join(datadir, subj, 'preproc', 'unwarp_out', 'unwarp_files')\n",
    "fm_outdir = join(outdir, 'fieldmap_figures')\n",
    "bet_outdir = join(outdir, 'bet_figures')\n",
    "if not exists(outdir):\n",
    "    print(outdir + ' does not exist, creating')\n",
    "    makedirs(outdir)\n",
    "if not exists(fm_outdir):\n",
    "    print(fm_outdir + ' does not exist, creating')\n",
    "    makedirs(fm_outdir)\n",
    "if not exists(bet_outdir):\n",
    "    print(bet_outdir + ' does not exist, creating')\n",
    "    makedirs(bet_outdir)\n",
    "    \n",
    "    \n",
    "# set fieldmap dir and files\n",
    "raw_nifti_dir = join(datadir, subj, 'raw', 'niftis_good')\n",
    "fieldmap_ap = join(raw_nifti_dir, scanInfo.loc['se_fieldmap_ap']['scanName'])\n",
    "fieldmap_pa = join(raw_nifti_dir, scanInfo.loc['se_fieldmap_pa']['scanName'])\n",
    "ref_epi = join(raw_nifti_dir, scanInfo.loc[last_scan]['scanName'])\n",
    "\n",
    "# run topup\n",
    "#!{join(codedir, 'prep_unwarpFiles.sh')} {outdir} {fieldmap_ap} {fieldmap_pa} {acqparams_file} {config_file} {ref_epi}\n"
   ]
  },
  {
   "cell_type": "code",
   "execution_count": 27,
   "metadata": {
    "collapsed": false
   },
   "outputs": [
    {
     "name": "stdout",
     "output_type": "stream",
     "text": [
      "saving images of original SE maps...\n"
     ]
    },
    {
     "name": "stderr",
     "output_type": "stream",
     "text": [
      "/jukebox/pkgs/ANACONDAPY/ni/lib/python3.6/site-packages/matplotlib/cbook.py:136: MatplotlibDeprecationWarning: The axisbg attribute was deprecated in version 2.0. Use facecolor instead.\n",
      "  warnings.warn(message, mplDeprecation, stacklevel=1)\n",
      "/jukebox/pkgs/ANACONDAPY/ni/lib/python3.6/site-packages/nilearn/image/resampling.py:472: UserWarning: Casting data from int32 to float32\n",
      "  warnings.warn(\"Casting data from %s to %s\" % (data.dtype.name, aux))\n"
     ]
    }
   ],
   "source": [
    "#### Make figures of fieldmaps to check processing #####\n",
    "\n",
    "# Original SE maps\n",
    "fieldmap = join(outdir, 'concat_fieldmaps.nii.gz')\n",
    "print('saving images of original SE maps...')\n",
    "for i in range(3):\n",
    "    plot_title = 'orig_se_ap_' + str(i)\n",
    "    plotting.plot_anat(image.index_img(fieldmap,i), dim=-1, title=plot_title, \n",
    "                       output_file = join(fm_outdir, plot_title + '.png'))\n",
    "for i in range(3,6):\n",
    "    plot_title = 'orig_se_pa_' + str(i)\n",
    "    plotting.plot_anat(image.index_img(fieldmap,i), dim=-1, title=plot_title, \n",
    "                       output_file = join(fm_outdir, plot_title + '.png'))\n",
    "\n",
    "# Corrected SE maps\n",
    "fieldmap = join(outdir, 'topup_iout.nii.gz')\n",
    "print('saving images of corrected SE maps...')\n",
    "for i in range(3):\n",
    "    plot_title = 'corr_se_ap_' + str(i)\n",
    "    plotting.plot_anat(image.index_img(fieldmap,i), dim=-1, title=plot_title, \n",
    "                       output_file = join(fm_outdir, plot_title + '.png'))\n",
    "for i in range(3,6):\n",
    "    plot_title = 'corr_se_pa_' + str(i)\n",
    "    plotting.plot_anat(image.index_img(fieldmap,i), dim=-1, title=plot_title, \n",
    "                       output_file = join(fm_outdir, plot_title + '.png'))\n",
    "    \n",
    "# Check magnitude and phase maps\n",
    "print('saving images of phase and magnitue maps...')\n",
    "plotting.plot_anat(join(outdir, 'magnitude.nii.gz'), dim=-1, title='mag map', \n",
    "                  output_file = join(fm_outdir, 'mag_map_mean.png'))\n",
    "plotting.plot_anat(join(outdir, 'magnitude_brain.nii.gz'),  dim=-1, title='mag map brain', \n",
    "                  output_file = join(fm_outdir, 'mag_map_brain.png'))\n",
    "plotting.plot_anat(join(outdir, 'topup_fout.nii.gz'),  dim=0, title='phase map', \n",
    "                   output_file = join(fm_outdir, 'phase_map.png'))"
   ]
  },
  {
   "cell_type": "code",
   "execution_count": 50,
   "metadata": {
    "collapsed": false
   },
   "outputs": [
    {
     "name": "stdout",
     "output_type": "stream",
     "text": [
      "reorient brain to std ...\n",
      "done!\n",
      "\n",
      "extracting brain using bet ...\n",
      "done!\n",
      "\n"
     ]
    }
   ],
   "source": [
    "#### Run bet to extract brain ####\n",
    "data_outdir = join(projdir, 'data', subj, 'data')\n",
    "if not exists(data_outdir):\n",
    "    print(data_outdir + ' does not exist, creating')\n",
    "    makedirs(data_outdir)\n",
    "\n",
    "# nifti names\n",
    "anat_raw = join(projdir,'data', subj, 'raw', 'niftis_good', scanInfo.loc['anat']['scanName'])\n",
    "anat_reorient = join(data_outdir, subj + '_t1w_reorient.nii.gz')\n",
    "anat_brain = join(data_outdir, subj + '_t1w_reorient_brain.nii.gz')\n",
    "\n",
    "# run bet\n",
    "!{join(codedir, 'run_bet.sh')} {anat_raw} {anat_reorient} {anat_brain}\n",
    "\n",
    "# add niftis to scan info\n",
    "# newNiftis = pd.DataFrame({'scanName': [subj + '_t1w_reorient.nii.gz', subj + '_t1w_reorient_brain.nii.gz'], \n",
    "#                          'scanNum':[8, 8], 'scanType':['anat', 'anat']}, index=['anat_reorient', 'anat_brain'] )\n",
    "# scanInfo = scanInfo.append(newNiftis)\n",
    "# scanInfo.to_csv(join(datadir, subj, 'scanInfo.csv'))"
   ]
  },
  {
   "cell_type": "code",
   "execution_count": 57,
   "metadata": {
    "collapsed": false
   },
   "outputs": [
    {
     "name": "stderr",
     "output_type": "stream",
     "text": [
      "/jukebox/pkgs/ANACONDAPY/ni/lib/python3.6/site-packages/matplotlib/cbook.py:136: MatplotlibDeprecationWarning: The axisbg attribute was deprecated in version 2.0. Use facecolor instead.\n",
      "  warnings.warn(message, mplDeprecation, stacklevel=1)\n"
     ]
    }
   ],
   "source": [
    "#### Save figures for bet ####\n",
    "plt_title = 'bet'\n",
    "plotting.plot_roi(roi_img=anat_brain, bg_img=anat_reorient, cmap='hot', title=plt_title,\n",
    "                  output_file=join(bet_outdir, plt_title))\n"
   ]
  },
  {
   "cell_type": "code",
   "execution_count": 48,
   "metadata": {
    "collapsed": false
   },
   "outputs": [],
   "source": []
  },
  {
   "cell_type": "code",
   "execution_count": null,
   "metadata": {
    "collapsed": true
   },
   "outputs": [],
   "source": []
  },
  {
   "cell_type": "code",
   "execution_count": null,
   "metadata": {
    "collapsed": true
   },
   "outputs": [],
   "source": []
  },
  {
   "cell_type": "code",
   "execution_count": null,
   "metadata": {
    "collapsed": false
   },
   "outputs": [],
   "source": []
  },
  {
   "cell_type": "code",
   "execution_count": null,
   "metadata": {
    "collapsed": false
   },
   "outputs": [],
   "source": []
  },
  {
   "cell_type": "code",
   "execution_count": null,
   "metadata": {
    "collapsed": true
   },
   "outputs": [],
   "source": []
  },
  {
   "cell_type": "markdown",
   "metadata": {},
   "source": [
    "### Make files for doing fieldmap correction using topup\n",
    "\n",
    "Meir's function for doing this is: slurm_fslblip.sh. It takes five arguments:\n",
    "1. Path to fieldmaps\n",
    "2. Name of AP fieldmap\n",
    "3. Name of PA fieldmap\n",
    "4. FSL topup aquisition params filename (not sure what this is yet, const_fsltopup_acqparams_file_name)\n",
    "5. FSL topup CNF filename (also not sure what this is, const_fsltopup_cnf_file_name)\n",
    "\n",
    "** Here is the procedure for creating these the topup files for b0 correction **\n",
    "1. Use FSLmerge to merge the two SE fieldmaps into one file (all_SE)\n",
    "2. The aqusition params file (4 above) you have to create manually. This file has a line for each of the 6 fieldmaps and specifies direction of encoding and total readout in seconds. AP = 1, and PA = -1, so if you have AP, AP, AP, PA, PA,PA, the first three columsn should be: [0 1 0] for AP, and [0 -1 0] for PA. The total readout is calculated seperately, following instructions here: https://pni-facilities.princeton.edu/index.php/Method_2:_Blip-up_blip-down_field_map_correctio\n",
    "3. The CNF configuration file (5 above) is provided by fsl and should work without any modifications. On spock it is located at  /jukebox/pkgs/FSL/5.0.9/etc/flirtsch/\n",
    "4. Check SE files to make sure they look okay!!\n",
    "5. Run topup. Check files\n",
    "6. Need a magnitude map to do correction. Use fslmaths to do get average of the 6 images\n",
    "7. Need a phase map to o correction. Use fslmaths to get phase map in radians from fsl_topup_fout\n",
    "\n",
    "**Calculating the aquisition time for file 4**\n",
    "\n",
    "**Method 1:** Use this formula based on scan parameters of your BOLD EPI protocol:\n",
    "* Formula: ((Matrix size / IPAT_factor) -1 ) * echo spacing in seconds = Readout time in seconds\n",
    "* Example: ((104/2)-1)*0.00056 = 0.02856 sec\n",
    "* For my scan\n",
    "  * Matrix size: base res = 96. \n",
    "      * In dicom file, you can find this as Private_0051_100b, which is size of the image in the phase encoding direction\n",
    "  * IPAT factor = 1 (no ipat)\n",
    "  * Echo spacing in seconds: \n",
    "      * echo spacing needs to be divided by ipat factor\n",
    "      * can ignore partial fourier and multiband sms\n",
    "      * echo spacing = 0.7 ms -> 0.0007\n",
    "  * ((96 / 1) - 1) * .0007 = __0.0665__\n",
    " \n",
    "Or use this formula (again, based off your BOLD EPI protocol):\n",
    " Formula: (number of phase encoding steps - 1) * effective echo spacing in sec = Total readout time in sec\n",
    " Example: (103-1)*0.00027999 = 0.02855898 sec\n",
    " \n",
    "**Method2:** Use this formula based on scan parameters of your BOLD EPI protocol:\n",
    "* Formula: (number of phase encoding steps - 1) * effective echo spacing in sec = Total readout time in sec\n",
    "   * Also note that \"number of phase encoding steps\" should be had you had to collect all k-space lines (i.e, all phase-encoding steps). So if your EPI protocol uses phase partial fourier (often, 7/8 or 6/8) you cannot use the value in the dicom header and instead you should provide the total number of phase encoding steps had you turned off partial k-space sampling.\n",
    "* Example: (103-1)*0.00027999 = 0.02855898 sec\n",
    "* For my scan:\n",
    "   * Number of phase encoding steps = 84 (from dicom header, NumberOfPhaseEncodingSteps)\n",
    "       * Phase partial fourier: 7/8\n",
    "       * Actual Number of Steps = 84 * 8/7 = 96\n",
    "   * Effective echo spacing = echo spacing / ipat factor\n",
    "       * echo spacing in sec = .0007\n",
    "       * ipat = 1\n",
    "       * effective echo spacing = .0007\n",
    "   * (96 - 1) * .0007 = __0.0665__\n"
   ]
  },
  {
   "cell_type": "markdown",
   "metadata": {},
   "source": [
    "## Motion correction and fieldmap correction steps\n",
    "\n",
    "1. Convert phase map from topup (topup_fout.nii.gz) to a pixel-shift map\n",
    "    * fslmaths <topup_fout> -mul <readouttimeinsec> <output>\n",
    "        * readoutimeinsec is from above: 0.0665\n",
    "        * this is the original topup_fout file in Hz, not the converted one in radians!!\n",
    "2. Convert to deformation (warp) map\n",
    "    * convertwarp -r <magnitude> -s <shiftmap> -o <output> -d <unwarpdirection> y\n",
    "    * checked both unwarp dirs, y and y-. y is the correct one\n",
    "    \n",
    "    "
   ]
  },
  {
   "cell_type": "code",
   "execution_count": null,
   "metadata": {
    "collapsed": true
   },
   "outputs": [],
   "source": []
  }
 ],
 "metadata": {
  "kernelspec": {
   "display_name": "Python 3",
   "language": "python",
   "name": "python3"
  },
  "language_info": {
   "codemirror_mode": {
    "name": "ipython",
    "version": 3
   },
   "file_extension": ".py",
   "mimetype": "text/x-python",
   "name": "python",
   "nbconvert_exporter": "python",
   "pygments_lexer": "ipython3",
   "version": "3.6.0"
  }
 },
 "nbformat": 4,
 "nbformat_minor": 2
}
